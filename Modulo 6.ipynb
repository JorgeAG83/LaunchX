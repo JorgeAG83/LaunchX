{
 "cells": [
  {
   "cell_type": "markdown",
   "metadata": {},
   "source": [
    "PRIMERA PARTE"
   ]
  },
  {
   "cell_type": "code",
   "execution_count": null,
   "metadata": {},
   "outputs": [],
   "source": [
    "planetas = ['Mercurio', 'Venus', 'Tierra', 'Marte', 'Jupiter', 'Saturno', 'Urano', 'Neptuno']\n",
    "print('Existen', len(planetas), 'planetas')\n",
    "planetas.append(\"Pluton\")\n",
    "print(\"El ultimo planeta seria\", planetas[-1], \"si es que lo consideramos, y asi serian\", len(planetas))\n",
    "print(\"Pero\", planetas.pop(-1), \"no lo contamos, asi que son\", len(planetas), \"solamente\")"
   ]
  },
  {
   "cell_type": "markdown",
   "metadata": {},
   "source": [
    "SEGUNDA PARTE"
   ]
  },
  {
   "cell_type": "code",
   "execution_count": null,
   "metadata": {},
   "outputs": [],
   "source": [
    "elige_planeta = input(\"Dime un planeta (Mayuscula al principio)...\")\n",
    "planeta_lugar = planetas.index(elige_planeta)\n",
    "print(\"Tu planeta tiene el lugar\", planeta_lugar+1)\n",
    "print(\"Mas cercanos al sol estan\", planetas[:planeta_lugar])\n",
    "print(\"Mas lejanos al sol estan\", planetas[planeta_lugar+1:])"
   ]
  }
 ],
 "metadata": {
  "interpreter": {
   "hash": "51c714d96ea880349ef769e21846e8b29dc86ae4d65921352f10fd658cd47235"
  },
  "kernelspec": {
   "display_name": "Python 3.10.2 64-bit",
   "language": "python",
   "name": "python3"
  },
  "language_info": {
   "codemirror_mode": {
    "name": "ipython",
    "version": 3
   },
   "file_extension": ".py",
   "mimetype": "text/x-python",
   "name": "python",
   "nbconvert_exporter": "python",
   "pygments_lexer": "ipython3",
   "version": "3.10.2"
  },
  "orig_nbformat": 4
 },
 "nbformat": 4,
 "nbformat_minor": 2
}
