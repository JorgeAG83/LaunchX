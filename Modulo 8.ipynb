{
 "cells": [
  {
   "cell_type": "markdown",
   "metadata": {},
   "source": [
    "PRIMERA PARTE"
   ]
  },
  {
   "cell_type": "code",
   "execution_count": null,
   "metadata": {},
   "outputs": [],
   "source": [
    "planeta = {\n",
    "    \"nombre\": \"Marte\",\n",
    "    \"lunas\": 2\n",
    "}\n",
    "print (planeta[\"nombre\"], \"tiene\", planeta[\"lunas\"], \"lunas\")\n",
    "planeta[\"circunferencia\"] = {\n",
    "    \"polar\": 6752,\n",
    "    \"ecuatorial\": 6792\n",
    "}\n",
    "print (\"La circunferencia polar es\", planeta[\"circunferencia\"][\"polar\"])"
   ]
  },
  {
   "cell_type": "markdown",
   "metadata": {},
   "source": [
    "SEGUNDA PARTE"
   ]
  },
  {
   "cell_type": "code",
   "execution_count": null,
   "metadata": {},
   "outputs": [],
   "source": [
    "# Planets and moons\n",
    "\n",
    "planet_moons = {\n",
    "    'mercury': 0,\n",
    "    'venus': 0,\n",
    "    'earth': 1,\n",
    "    'mars': 2,\n",
    "    'jupiter': 79,\n",
    "    'saturn': 82,\n",
    "    'uranus': 27,\n",
    "    'neptune': 14,\n",
    "    'pluto': 5,\n",
    "    'haumea': 2,\n",
    "    'makemake': 1,\n",
    "    'eris': 1\n",
    "}\n",
    "planetas = len(planet_moons.keys())\n",
    "print (\"Planetas:\", planetas)\n",
    "lunas = planet_moons.values()\n",
    "print (\"Lunas:\", sum(lunas))\n",
    "print (\"En promedio son\", round(sum(lunas)/planetas,2), \"por planeta\")"
   ]
  }
 ],
 "metadata": {
  "interpreter": {
   "hash": "51c714d96ea880349ef769e21846e8b29dc86ae4d65921352f10fd658cd47235"
  },
  "kernelspec": {
   "display_name": "Python 3.10.2 64-bit",
   "language": "python",
   "name": "python3"
  },
  "language_info": {
   "codemirror_mode": {
    "name": "ipython",
    "version": 3
   },
   "file_extension": ".py",
   "mimetype": "text/x-python",
   "name": "python",
   "nbconvert_exporter": "python",
   "pygments_lexer": "ipython3",
   "version": "3.10.2"
  },
  "orig_nbformat": 4
 },
 "nbformat": 4,
 "nbformat_minor": 2
}
