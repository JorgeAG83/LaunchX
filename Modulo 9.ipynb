{
 "cells": [
  {
   "cell_type": "markdown",
   "metadata": {},
   "source": [
    "PRIMERA PARTE"
   ]
  },
  {
   "cell_type": "code",
   "execution_count": null,
   "metadata": {},
   "outputs": [],
   "source": [
    "t1 = int(input(\"Tanque 1\"))\n",
    "t2 = int(input(\"Tanque 2\"))\n",
    "t3 = int(input(\"Tanque 3\"))\n",
    "def gasolina(tanque1,tanque2,tanque3):\n",
    "    total = tanque1+tanque2+tanque3\n",
    "    print(\"Total de gasolina en los tanques es\", total)\n",
    "    print(\"Siendo un promedio de\", round(total/32,2), \"por cada uno\")\n",
    "gasolina(t1,t2,t3)"
   ]
  },
  {
   "cell_type": "markdown",
   "metadata": {},
   "source": [
    "SEGUNDA PARTE"
   ]
  },
  {
   "cell_type": "code",
   "execution_count": null,
   "metadata": {},
   "outputs": [],
   "source": [
    "destino = input(\"¿A donde dices que vamos?\")\n",
    "previo = int(input(\"¿Cuantos minutos son de preparacion?\"))\n",
    "duracion = int(input(\"¿Cuantas horas son el total de vuelo?\"))\n",
    "def reporte():\n",
    "    gasolina(t1,t2,t3)\n",
    "    print(\"tiempo de viaje a\", destino, previo+(duracion*60), \"minutos\")\n",
    "reporte()"
   ]
  }
 ],
 "metadata": {
  "interpreter": {
   "hash": "51c714d96ea880349ef769e21846e8b29dc86ae4d65921352f10fd658cd47235"
  },
  "kernelspec": {
   "display_name": "Python 3.10.2 64-bit",
   "language": "python",
   "name": "python3"
  },
  "language_info": {
   "codemirror_mode": {
    "name": "ipython",
    "version": 3
   },
   "file_extension": ".py",
   "mimetype": "text/x-python",
   "name": "python",
   "nbconvert_exporter": "python",
   "pygments_lexer": "ipython3",
   "version": "3.10.2"
  },
  "orig_nbformat": 4
 },
 "nbformat": 4,
 "nbformat_minor": 2
}
