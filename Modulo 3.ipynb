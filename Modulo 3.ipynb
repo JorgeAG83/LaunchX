{
 "cells": [
  {
   "cell_type": "code",
   "execution_count": null,
   "metadata": {},
   "outputs": [],
   "source": [
    "print(\"¿De que tamaño es el asteroide?\")\n",
    "size=int(input())\n",
    "print(\"¿A que velocidad se aproxima a la tierra?\")\n",
    "speed=int(input())\n",
    "print(\"Tamaño:\", size, \"Velocidad:\", speed)\n",
    "if size > 25 and size < 1000:\n",
    "    print(\"¡Vamos a morir!\")\n",
    "    if speed > 25:\n",
    "        print(\"¡Terribles luces en el cielo!\")\n",
    "    else:\n",
    "        print(\"En completa obscuridad.\")\n",
    "elif size > 1000:\n",
    "    print(\"Dios nos agarre confesados.\")\n",
    "else:\n",
    "    print(\"Viviremos otro dia,\")\n",
    "    if speed > 25:\n",
    "        print(\"¡Se veran luces en el cielo!\")\n",
    "    else:\n",
    "        print(\"Sera una noche tranquila.\")"
   ]
  }
 ],
 "metadata": {
  "interpreter": {
   "hash": "51c714d96ea880349ef769e21846e8b29dc86ae4d65921352f10fd658cd47235"
  },
  "kernelspec": {
   "display_name": "Python 3.10.2 64-bit",
   "language": "python",
   "name": "python3"
  },
  "language_info": {
   "codemirror_mode": {
    "name": "ipython",
    "version": 3
   },
   "file_extension": ".py",
   "mimetype": "text/x-python",
   "name": "python",
   "nbconvert_exporter": "python",
   "pygments_lexer": "ipython3",
   "version": "3.10.2"
  },
  "orig_nbformat": 4
 },
 "nbformat": 4,
 "nbformat_minor": 2
}
